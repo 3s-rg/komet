{
 "cells": [
  {
   "cell_type": "code",
   "execution_count": 1,
   "metadata": {},
   "outputs": [],
   "source": [
    "import os\n",
    "import itertools\n",
    "import glob\n",
    "import datetime\n",
    "import json\n",
    "\n",
    "import numpy as np\n",
    "import pandas as pd\n",
    "import seaborn as sns\n",
    "import matplotlib as mpl\n",
    "import matplotlib.ticker\n",
    "import matplotlib.pyplot as plt\n",
    "\n",
    "\n",
    "sns.set_theme(font_scale=0.9, style='whitegrid', font='CMU Sans Serif')\n",
    "pal = sns.color_palette(['#4477AA', '#EE6677', '#228833', '#CCBB44', '#66CCEE', '#AA3377', '#BBBBBB'])\n",
    "sns.set_palette(pal)\n",
    "\n",
    "mpl.rcParams['pdf.fonttype'] = 42\n",
    "mpl.rcParams['ps.fonttype'] = 42\n",
    "mpl.rcParams['figure.figsize'] = (4.5,2)\n",
    "mpl.rcParams['figure.dpi'] = 100"
   ]
  },
  {
   "cell_type": "code",
   "execution_count": 2,
   "metadata": {},
   "outputs": [],
   "source": [
    "# STAGES = [\n",
    "#     0,\n",
    "#     1,\n",
    "#     5,\n",
    "#     10,\n",
    "#     25,\n",
    "#     50,\n",
    "#     100,\n",
    "#     250,\n",
    "#     500,\n",
    "#     1_000,\n",
    "# ] + list(range(0, 1000, 100))\n",
    "STAGES = list(range(0, 1000, 100)) + [1_000]\n",
    "\n",
    "REPEATS = 10"
   ]
  },
  {
   "cell_type": "code",
   "execution_count": 3,
   "metadata": {},
   "outputs": [
    {
     "name": "stdout",
     "output_type": "stream",
     "text": [
      "[(0, 1, 0.1285683840000047), (0, 2, 0.13054001399999038), (0, 3, 0.13478605000000243), (0, 4, 0.13193594099999473), (0, 5, 0.13271684200000777), (0, 6, 0.13190910700001268), (0, 7, 0.12511890199999698), (0, 8, 0.1349241910000103), (0, 9, 0.1320650790000002), (0, 10, 0.1309090519999927), (100, 1, 1.6634805879999988), (100, 2, 1.811656193999994), (100, 3, 2.0683603340000047), (100, 4, 1.7888839660000144), (100, 5, 1.774779682000002), (100, 6, 1.8857055690000095), (100, 7, 1.9803178840000157), (100, 8, 2.029557656999998), (100, 9, 1.9890937059999771), (100, 10, 1.899787951999997), (200, 1, 2.656831189000002), (200, 2, 2.7132071489999987), (200, 3, 2.6924242249999963), (200, 4, 2.482960124999977), (200, 5, 2.62059329600001), (200, 6, 2.813852365999992), (200, 7, 2.842392712999981), (200, 8, 2.7104368169999873), (200, 9, 3.044997840999997), (200, 10, 2.9092861510000034), (300, 1, 3.7400025669999764), (300, 2, 4.192647910000005), (300, 3, 3.967534268999998), (300, 4, 3.555016978999987), (300, 5, 3.697517476999991), (300, 6, 3.7225247490000015), (300, 7, 3.7065349050000123), (300, 8, 3.6322941909999997), (300, 9, 3.905636379999976), (300, 10, 3.548947095999978), (400, 1, 4.995022172999995), (400, 2, 4.546912692999996), (400, 3, 4.537010215999999), (400, 4, 4.647222954), (400, 5, 4.521170952999995), (400, 6, 4.720791603999999), (400, 7, 4.704402049999999), (400, 8, 4.560615552999991), (400, 9, 4.511376993999988), (400, 10, 4.697543972999995), (500, 1, 6.4789626909999924), (500, 2, 6.3118506510000145), (500, 3, 5.178437188999993), (500, 4, 5.437445000999986), (500, 5, 5.410422809000011), (500, 6, 5.541245094999994), (500, 7, 5.246345198), (500, 8, 5.526547813999997), (500, 9, 5.5618331350000005), (500, 10, 5.624289264999987), (600, 1, 6.374542018999989), (600, 2, 6.564481357999995), (600, 3, 6.265249819000019), (600, 4, 6.210223546000009), (600, 5, 7.324935513000014), (600, 6, 6.396707678000013), (600, 7, 6.757903099999993), (600, 8, 6.565458551000006), (600, 9, 6.137315806000004), (600, 10, 6.352009793000008), (700, 1, 7.717282511999997), (700, 2, 8.534127581999996), (700, 3, 6.921926127000006), (700, 4, 8.129142537999996), (700, 5, 7.01794089400002), (700, 6, 6.8322920519999855), (700, 7, 7.900952845000006), (700, 8, 7.294037758000002), (700, 9, 7.179267562000007), (700, 10, 7.4235108670000045), (800, 1, 8.532683077000002), (800, 2, 8.312052770999998), (800, 3, 8.303354219), (800, 4, 9.81417176299999), (800, 5, 7.91361981899999), (800, 6, 8.095495924000005), (800, 7, 7.987303154000017), (800, 8, 8.06889587500001), (800, 9, 8.051967304000016), (800, 10, 8.212387906999993), (900, 1, 9.739725528999998), (900, 2, 10.980755800999987), (900, 3, 8.789444597999989), (900, 4, 8.949388685999992), (900, 5, 10.127085792000003), (900, 6, 8.677450082999997), (900, 7, 8.979728479000016), (900, 8, 8.78240150900001), (900, 9, 9.405235941), (900, 10, 8.818427917999998), (1000, 1, 10.394287273000003), (1000, 2, 9.902420533999987), (1000, 3, 10.92718878399998), (1000, 4, 9.748025412999993), (1000, 5, 9.781186886), (1000, 6, 10.755143290999996), (1000, 7, 9.797583175), (1000, 8, 10.65053208400002), (1000, 9, 9.700407858999995), (1000, 10, 9.29464937100002)]\n"
     ]
    }
   ],
   "source": [
    "data = []\n",
    "\n",
    "for s in STAGES:\n",
    "    for i in range(1, REPEATS+1):\n",
    "        with open(f\"scale_output/{s}_{i}.out\") as f:\n",
    "            seen = False\n",
    "            # read line by line until \"Replicating data from 1-2 to 1-1\" comes\n",
    "            for line in f:\n",
    "                if \"Replicating data from 1-2 to 1-1\" not in line and not seen:\n",
    "                    continue\n",
    "                else:\n",
    "                    seen = True\n",
    "\n",
    "                if \"Replicated data in\" not in line:\n",
    "                    continue\n",
    "\n",
    "                # 2024-07-05 04:14:59,744:INFO:orchestrator.py: Replicated data in 16.29943061099999\n",
    "\n",
    "                parts = line.split(\" \")\n",
    "                t_s = parts[5]\n",
    "\n",
    "                data.append((s, i, float(t_s)))\n",
    "\n",
    "                break\n",
    "print(data)"
   ]
  },
  {
   "cell_type": "code",
   "execution_count": 4,
   "metadata": {},
   "outputs": [],
   "source": [
    "df = pd.DataFrame(data, columns=[\"stage\", \"repeat\", \"time_s\"])"
   ]
  },
  {
   "cell_type": "code",
   "execution_count": 5,
   "metadata": {},
   "outputs": [
    {
     "data": {
      "text/html": [
       "<div>\n",
       "<style scoped>\n",
       "    .dataframe tbody tr th:only-of-type {\n",
       "        vertical-align: middle;\n",
       "    }\n",
       "\n",
       "    .dataframe tbody tr th {\n",
       "        vertical-align: top;\n",
       "    }\n",
       "\n",
       "    .dataframe thead th {\n",
       "        text-align: right;\n",
       "    }\n",
       "</style>\n",
       "<table border=\"1\" class=\"dataframe\">\n",
       "  <thead>\n",
       "    <tr style=\"text-align: right;\">\n",
       "      <th></th>\n",
       "      <th>stage</th>\n",
       "      <th>repeat</th>\n",
       "      <th>time_s</th>\n",
       "    </tr>\n",
       "  </thead>\n",
       "  <tbody>\n",
       "    <tr>\n",
       "      <th>0</th>\n",
       "      <td>0</td>\n",
       "      <td>1</td>\n",
       "      <td>0.128568</td>\n",
       "    </tr>\n",
       "    <tr>\n",
       "      <th>1</th>\n",
       "      <td>0</td>\n",
       "      <td>2</td>\n",
       "      <td>0.130540</td>\n",
       "    </tr>\n",
       "    <tr>\n",
       "      <th>2</th>\n",
       "      <td>0</td>\n",
       "      <td>3</td>\n",
       "      <td>0.134786</td>\n",
       "    </tr>\n",
       "    <tr>\n",
       "      <th>3</th>\n",
       "      <td>0</td>\n",
       "      <td>4</td>\n",
       "      <td>0.131936</td>\n",
       "    </tr>\n",
       "    <tr>\n",
       "      <th>4</th>\n",
       "      <td>0</td>\n",
       "      <td>5</td>\n",
       "      <td>0.132717</td>\n",
       "    </tr>\n",
       "  </tbody>\n",
       "</table>\n",
       "</div>"
      ],
      "text/plain": [
       "   stage  repeat    time_s\n",
       "0      0       1  0.128568\n",
       "1      0       2  0.130540\n",
       "2      0       3  0.134786\n",
       "3      0       4  0.131936\n",
       "4      0       5  0.132717"
      ]
     },
     "execution_count": 5,
     "metadata": {},
     "output_type": "execute_result"
    }
   ],
   "source": [
    "df.head()"
   ]
  },
  {
   "cell_type": "code",
   "execution_count": 6,
   "metadata": {},
   "outputs": [
    {
     "data": {
      "text/html": [
       "<div>\n",
       "<style scoped>\n",
       "    .dataframe tbody tr th:only-of-type {\n",
       "        vertical-align: middle;\n",
       "    }\n",
       "\n",
       "    .dataframe tbody tr th {\n",
       "        vertical-align: top;\n",
       "    }\n",
       "\n",
       "    .dataframe thead th {\n",
       "        text-align: right;\n",
       "    }\n",
       "</style>\n",
       "<table border=\"1\" class=\"dataframe\">\n",
       "  <thead>\n",
       "    <tr style=\"text-align: right;\">\n",
       "      <th></th>\n",
       "      <th>repeat</th>\n",
       "      <th>time_s</th>\n",
       "    </tr>\n",
       "    <tr>\n",
       "      <th>stage</th>\n",
       "      <th></th>\n",
       "      <th></th>\n",
       "    </tr>\n",
       "  </thead>\n",
       "  <tbody>\n",
       "    <tr>\n",
       "      <th>0</th>\n",
       "      <td>5.5</td>\n",
       "      <td>0.131347</td>\n",
       "    </tr>\n",
       "    <tr>\n",
       "      <th>100</th>\n",
       "      <td>5.5</td>\n",
       "      <td>1.889162</td>\n",
       "    </tr>\n",
       "    <tr>\n",
       "      <th>200</th>\n",
       "      <td>5.5</td>\n",
       "      <td>2.748698</td>\n",
       "    </tr>\n",
       "    <tr>\n",
       "      <th>300</th>\n",
       "      <td>5.5</td>\n",
       "      <td>3.766866</td>\n",
       "    </tr>\n",
       "    <tr>\n",
       "      <th>400</th>\n",
       "      <td>5.5</td>\n",
       "      <td>4.644207</td>\n",
       "    </tr>\n",
       "    <tr>\n",
       "      <th>500</th>\n",
       "      <td>5.5</td>\n",
       "      <td>5.631738</td>\n",
       "    </tr>\n",
       "    <tr>\n",
       "      <th>600</th>\n",
       "      <td>5.5</td>\n",
       "      <td>6.494883</td>\n",
       "    </tr>\n",
       "    <tr>\n",
       "      <th>700</th>\n",
       "      <td>5.5</td>\n",
       "      <td>7.495048</td>\n",
       "    </tr>\n",
       "    <tr>\n",
       "      <th>800</th>\n",
       "      <td>5.5</td>\n",
       "      <td>8.329193</td>\n",
       "    </tr>\n",
       "    <tr>\n",
       "      <th>900</th>\n",
       "      <td>5.5</td>\n",
       "      <td>9.324964</td>\n",
       "    </tr>\n",
       "    <tr>\n",
       "      <th>1000</th>\n",
       "      <td>5.5</td>\n",
       "      <td>10.095142</td>\n",
       "    </tr>\n",
       "  </tbody>\n",
       "</table>\n",
       "</div>"
      ],
      "text/plain": [
       "       repeat     time_s\n",
       "stage                   \n",
       "0         5.5   0.131347\n",
       "100       5.5   1.889162\n",
       "200       5.5   2.748698\n",
       "300       5.5   3.766866\n",
       "400       5.5   4.644207\n",
       "500       5.5   5.631738\n",
       "600       5.5   6.494883\n",
       "700       5.5   7.495048\n",
       "800       5.5   8.329193\n",
       "900       5.5   9.324964\n",
       "1000      5.5  10.095142"
      ]
     },
     "execution_count": 6,
     "metadata": {},
     "output_type": "execute_result"
    }
   ],
   "source": [
    "df.groupby(\"stage\").mean()"
   ]
  },
  {
   "cell_type": "code",
   "execution_count": 7,
   "metadata": {},
   "outputs": [
    {
     "data": {
      "text/plain": [
       "<Axes: xlabel='stage', ylabel='time_s'>"
      ]
     },
     "execution_count": 7,
     "metadata": {},
     "output_type": "execute_result"
    },
    {
     "data": {
      "image/png": "[encoded data removed]",
      "text/plain": [
       "<Figure size 450x200 with 1 Axes>"
      ]
     },
     "metadata": {},
     "output_type": "display_data"
    }
   ],
   "source": [
    "sns.scatterplot(data=df, x='stage', y='time_s', hue='repeat', alpha=0.5)"
   ]
  },
  {
   "cell_type": "code",
   "execution_count": 8,
   "metadata": {},
   "outputs": [
    {
     "name": "stderr",
     "output_type": "stream",
     "text": [
      "/var/folders/2f/b2y6thfs2051_m0fs57vb_sc0000gn/T/ipykernel_81763/3472273118.py:1: FutureWarning: \n",
      "\n",
      "The `errwidth` parameter is deprecated. And will be removed in v0.15.0. Pass `err_kws={'linewidth': 1}` instead.\n",
      "\n",
      "  g = sns.pointplot(data=df, x='stage', y='time_s', linewidth=1, marker='o', errwidth=1, color='black', native_scale=True)\n"
     ]
    },
    {
     "data": {
      "text/plain": [
       "[Text(0.5, 0, 'Data Size (MB)'), Text(0, 0.5, 'Replication Time (s)')]"
      ]
     },
     "execution_count": 8,
     "metadata": {},
     "output_type": "execute_result"
    },
    {
     "data": {
      "image/png": "[encoded data removed]",
      "text/plain": [
       "<Figure size 450x200 with 1 Axes>"
      ]
     },
     "metadata": {},
     "output_type": "display_data"
    }
   ],
   "source": [
    "g = sns.pointplot(data=df, x='stage', y='time_s', linewidth=1, marker='o', errwidth=1, color='black', native_scale=True)\n",
    "g.set(xlabel=\"Data Size (MB)\", ylabel=\"Replication Time (s)\")\n",
    "# add vertical lines to the grid\n",
    "\n",
    "# plt.savefig(\"simple-migration.pdf\", bbox_inches='tight')"
   ]
  },
  {
   "cell_type": "code",
   "execution_count": 24,
   "metadata": {},
   "outputs": [
    {
     "name": "stderr",
     "output_type": "stream",
     "text": [
      "/var/folders/2f/b2y6thfs2051_m0fs57vb_sc0000gn/T/ipykernel_81763/826066809.py:10: FutureWarning: \n",
      "\n",
      "The `errwidth` parameter is deprecated. And will be removed in v0.15.0. Pass `err_kws={'linewidth': 1}` instead.\n",
      "\n",
      "  g = sns.pointplot(data=graph_df, x='stage', y='time_s', linewidth=1, marker='o', errwidth=1, hue=\"Experiment\", native_scale=True, palette=[\"#000000\", \"#999999\"], linestyles=[\"solid\", \"dashed\", \"dotted\"])\n",
      "webf NOT subset; don't know how to subset; dropped\n"
     ]
    },
    {
     "data": {
      "image/png": "[encoded data removed]",
      "text/plain": [
       "<Figure size 450x200 with 1 Axes>"
      ]
     },
     "metadata": {},
     "output_type": "display_data"
    }
   ],
   "source": [
    "graph_df = df.copy()\n",
    "graph_df[\"Experiment\"] = \"Komet\"\n",
    "\n",
    "tmp = pd.read_csv(\"../containers/unsorted-results.csv\")\n",
    "tmp[\"Experiment\"] = \"Container\"\n",
    "tmp[\"time_s\"] = tmp[\"other_checkpoint_time\"] + tmp[\"receive_time\"] + tmp[\"restore_time\"]\n",
    "\n",
    "graph_df = pd.concat([graph_df, tmp])\n",
    "\n",
    "g = sns.pointplot(data=graph_df, x='stage', y='time_s', linewidth=1, marker='o', errwidth=1, hue=\"Experiment\", native_scale=True, palette=[\"#000000\", \"#999999\"], linestyles=[\"solid\", \"dashed\", \"dotted\"])\n",
    "g.set(xlabel=\"Data Size (MB)\", ylabel=\"Replication Time (s)\")\n",
    "g.legend(title=None)\n",
    "# add vertical lines to the grid\n",
    "\n",
    "plt.savefig(\"simple-migration.pdf\", bbox_inches='tight')"
   ]
  }
 ],
 "metadata": {
  "kernelspec": {
   "display_name": "Python 3",
   "language": "python",
   "name": "python3"
  },
  "language_info": {
   "codemirror_mode": {
    "name": "ipython",
    "version": 3
   },
   "file_extension": ".py",
   "mimetype": "text/x-python",
   "name": "python",
   "nbconvert_exporter": "python",
   "pygments_lexer": "ipython3",
   "version": "3.12.6"
  }
 },
 "nbformat": 4,
 "nbformat_minor": 2
}
